{
  "nbformat": 4,
  "nbformat_minor": 0,
  "metadata": {
    "colab": {
      "provenance": [],
      "authorship_tag": "ABX9TyM8U1hT7YXcWsdOuRnwxJYM",
      "include_colab_link": true
    },
    "kernelspec": {
      "name": "python3",
      "display_name": "Python 3"
    },
    "language_info": {
      "name": "python"
    }
  },
  "cells": [
    {
      "cell_type": "markdown",
      "metadata": {
        "id": "view-in-github",
        "colab_type": "text"
      },
      "source": [
        "<a href=\"https://colab.research.google.com/github/Cahayabb209/Cahaya-Elisabet-Butarbutar-J0403231022-/blob/main/Data_Structure.ipynb\" target=\"_parent\"><img src=\"https://colab.research.google.com/assets/colab-badge.svg\" alt=\"Open In Colab\"/></a>"
      ]
    },
    {
      "cell_type": "code",
      "execution_count": 2,
      "metadata": {
        "colab": {
          "base_uri": "https://localhost:8080/"
        },
        "id": "vAfERbmOsfM8",
        "outputId": "eadb6491-b176-4a10-b2b6-43eedc3d150a"
      },
      "outputs": [
        {
          "output_type": "stream",
          "name": "stdout",
          "text": [
            "[1, 2, 3, 4, 3, 5, 6]\n",
            "[1, 2, 3, 4, 3, 5, 6, 7, 8, 9]\n",
            "[1, 2, 10, 3, 4, 3, 5, 6, 7, 8, 9]\n",
            "[1, 2, 10, 4, 3, 5, 6, 7, 8, 9]\n",
            "Popped element:10\n"
          ]
        }
      ],
      "source": [
        "# Initialize a sample list\n",
        "my_list = [1, 2, 3, 4, 3, 5]\n",
        "\n",
        "# append(x) - Adds an element to the end of the list\n",
        "my_list.append(6)\n",
        "print(my_list)  # Output: [1, 2, 3, 4, 3, 5, 6]\n",
        "\n",
        "# extend(iterable) - Extends the list with elements from another iterable\n",
        "my_list.extend([7, 8, 9])\n",
        "print(my_list)  # Output: [1, 2, 3, 4, 3, 5, 6, 7, 8, 9]\n",
        "\n",
        "# insert(i, x) - Inserts an element at a specified index\n",
        "my_list.insert(2, 10)\n",
        "print(my_list)  # Output: [1, 2, 10, 3, 4, 3, 5, 6, 7, 8, 9]\n",
        "\n",
        "# remove(x) - Removes the first occurrence of an element\n",
        "my_list.remove(3)\n",
        "print(my_list)  # Output: [1, 2, 10, 4, 3, 5, 6, 7, 8, 9]\n",
        "\n",
        "# pop([i]) - Removes and returns an element (default: last element)\n",
        "popped_element = my_list.pop(2)\n",
        "print(f\"Popped element:{popped_element}\") #Output: Popped element: 10"
      ]
    },
    {
      "cell_type": "code",
      "source": [
        "# clear() - Removes all elements from the list\n",
        "my_list.clear()\n",
        "print(my_list)  # Output: []\n",
        "\n",
        "# index(x[, start[, end]]) - Returns the index of the first occurrence of an element\n",
        "my_list = [1, 2, 3, 4, 3, 5]\n",
        "index = my_list.index(3)\n",
        "print(f\"Index of 3: {index}\")  # Output: Index of 3: 2\n",
        "\n",
        "# count(x) - Returns the number of occurrences of an element\n",
        "count = my_list.count(3)\n",
        "print(f\"Count of 3: {count}\")  # Output: Count of 3: 2\n",
        "\n",
        "# sort(key=None, reverse=False) - Sorts the list in ascending order\n",
        "my_list.sort()\n",
        "print(my_list)  # Output: [1, 2, 3, 3, 4, 5]\n",
        "\n",
        "# reverse() - Reverses the order of elements\n",
        "my_list.reverse()\n",
        "print(my_list)  # Output: [5, 4, 3, 3, 2, 1]\n",
        "\n",
        "# copy() - Creates a shallow copy of the list\n",
        "copy_of_list = my_list.copy()\n",
        "print(copy_of_list)  # Output: [5, 4, 3, 3, 2, 1]\n",
        "\n",
        "# len(list) - Returns the number of elements in the list\n",
        "length = len(my_list)\n",
        "print(f\"Length of the list:{length}\") #Output: Length of the list: 6"
      ],
      "metadata": {
        "colab": {
          "base_uri": "https://localhost:8080/"
        },
        "id": "Vs5SqTu3sog2",
        "outputId": "06ff1af0-b419-4553-9493-20ddb2c98c09"
      },
      "execution_count": 3,
      "outputs": [
        {
          "output_type": "stream",
          "name": "stdout",
          "text": [
            "[]\n",
            "Index of 3: 2\n",
            "Count of 3: 2\n",
            "[1, 2, 3, 3, 4, 5]\n",
            "[5, 4, 3, 3, 2, 1]\n",
            "[5, 4, 3, 3, 2, 1]\n",
            "Length of the list:6\n"
          ]
        }
      ]
    },
    {
      "cell_type": "code",
      "source": [
        "list1=[] # creating an empty list\n",
        "list2=[1,2.4,'abc',(1,2),[6,78,9]] # creating a list of different values\n",
        "print(\"The type of\",list1,\"is:\",type(list1))\n",
        "print(\"The type of\",list2,\"is:\",type(list2))\n"
      ],
      "metadata": {
        "colab": {
          "base_uri": "https://localhost:8080/"
        },
        "id": "RD_8TD8vv-pm",
        "outputId": "c8d6c23b-ef14-470a-fcb6-f512b32b6964"
      },
      "execution_count": 4,
      "outputs": [
        {
          "output_type": "stream",
          "name": "stdout",
          "text": [
            "The type of [] is: <class 'list'>\n",
            "The type of [1, 2.4, 'abc', (1, 2), [6, 78, 9]] is: <class 'list'>\n"
          ]
        }
      ]
    },
    {
      "cell_type": "code",
      "source": [
        "list_1=[1,3,5.6,'a',\"PythonGeeks\",0.4]\n",
        "print(\"list_1[2:5] =\",list_1[2:5]) # slicing 3rd to 5th element\n",
        "print(\"list_1[:] =\",list_1[:]) # getting entire list\n",
        "print(\"list_1[-5:-2] =\",list_1[-5:-2]) # slicing last 5th to 3rd element\n",
        "print(\"list_1[3:] =\",list_1[3:]) # slicing all elements after 3rd one\n",
        "print(\"list_1[-3:] =\",list_1[-3:]) # slicing all elements after last 3rd one\n",
        "print(\"list_1[:2] =\",list_1[:2]) # slicing all elements till 2nd one\n",
        "print(\"list_1[:-2] =\",list_1[:-2])# slicing all elements till last 2nd one\n"
      ],
      "metadata": {
        "colab": {
          "base_uri": "https://localhost:8080/"
        },
        "id": "-Vw7QoIXwLNV",
        "outputId": "4a04f66b-6e17-4461-c11f-29dad241bb3a"
      },
      "execution_count": 5,
      "outputs": [
        {
          "output_type": "stream",
          "name": "stdout",
          "text": [
            "list_1[2:5] = [5.6, 'a', 'PythonGeeks']\n",
            "list_1[:] = [1, 3, 5.6, 'a', 'PythonGeeks', 0.4]\n",
            "list_1[-5:-2] = [3, 5.6, 'a']\n",
            "list_1[3:] = ['a', 'PythonGeeks', 0.4]\n",
            "list_1[-3:] = ['a', 'PythonGeeks', 0.4]\n",
            "list_1[:2] = [1, 3]\n",
            "list_1[:-2] = [1, 3, 5.6, 'a']\n"
          ]
        }
      ]
    },
    {
      "cell_type": "code",
      "source": [
        "# Create a list\n",
        "my_list = [1, 2, 3, 4, 5]\n",
        "\n",
        "# Modify an element using indexing\n",
        "my_list[2] = 10\n",
        "print(\"After modifying using indexing:\", my_list)  # Output: [1, 2, 10, 4, 5]\n",
        "\n",
        "# Modify a range of elements using slicing\n",
        "my_list[1:4] = [20, 30, 40]\n",
        "print(\"After modifying using slicing:\", my_list)  # Output: [1, 20, 30, 40, 5]\n",
        "\n",
        "# Delete an element using indexing\n",
        "del my_list[2]\n",
        "print(\"After deleting using indexing:\", my_list)  # Output: [1, 20, 40, 5]\n",
        "\n",
        "# Delete a range of elements using slicing\n",
        "my_list[1:4] = []\n",
        "print(\"After deleting using slicing:\", my_list)  # Output: [1, 5]\n",
        "\n",
        "# Delete the entire list\n",
        "del my_list\n",
        "# Now my_list is no longer defined"
      ],
      "metadata": {
        "colab": {
          "base_uri": "https://localhost:8080/"
        },
        "id": "YGgLvdTjwQS9",
        "outputId": "f3bcdd61-f15b-4d5a-f811-1a45c351926d"
      },
      "execution_count": 6,
      "outputs": [
        {
          "output_type": "stream",
          "name": "stdout",
          "text": [
            "After modifying using indexing: [1, 2, 10, 4, 5]\n",
            "After modifying using slicing: [1, 20, 30, 40, 5]\n",
            "After deleting using indexing: [1, 20, 40, 5]\n",
            "After deleting using slicing: [1]\n"
          ]
        }
      ]
    },
    {
      "cell_type": "code",
      "source": [
        "# Create a sample list\n",
        "my_list = [1, 2, 3, 4, 5]\n",
        "\n",
        "# Method 1: Loop through the list and print each element\n",
        "for item in my_list:\n",
        "    print(item)\n",
        "\n",
        "# Method 2: Loop through the list with index using enumerate()\n",
        "for index, item in enumerate(my_list):\n",
        "    print(f\"Index {index}: {item}\")\n",
        "\n",
        "# Method 3: Loop through the list in reverse order\n",
        "for item in reversed(my_list):\n",
        "    print(item)\n"
      ],
      "metadata": {
        "colab": {
          "base_uri": "https://localhost:8080/"
        },
        "id": "juboic79wky-",
        "outputId": "a212fe87-5c62-4225-ae28-6c9946ffcb59"
      },
      "execution_count": 7,
      "outputs": [
        {
          "output_type": "stream",
          "name": "stdout",
          "text": [
            "1\n",
            "2\n",
            "3\n",
            "4\n",
            "5\n",
            "Index 0: 1\n",
            "Index 1: 2\n",
            "Index 2: 3\n",
            "Index 3: 4\n",
            "Index 4: 5\n",
            "5\n",
            "4\n",
            "3\n",
            "2\n",
            "1\n"
          ]
        }
      ]
    },
    {
      "cell_type": "code",
      "source": [
        "# Sample 1:\n",
        "list1=[1,-2,3,-4,5]\n",
        "list2=[x**2 for x in list1]\n",
        "print(list2)\n",
        "\n",
        "# Sample 2 (with condition):\n",
        "fruits = [\"apple\", \"banana\", \"cherry\", \"kiwi\", \"mango\"]\n",
        "newlist = [x if x != \"banana\" else \"orange\" for x in fruits]\n",
        "print(newlist)\n"
      ],
      "metadata": {
        "colab": {
          "base_uri": "https://localhost:8080/"
        },
        "id": "eQ3jfY2-wor5",
        "outputId": "38975510-98c3-4f9f-c196-592ccbdb15d4"
      },
      "execution_count": 8,
      "outputs": [
        {
          "output_type": "stream",
          "name": "stdout",
          "text": [
            "[1, 4, 9, 16, 25]\n",
            "['apple', 'orange', 'cherry', 'kiwi', 'mango']\n"
          ]
        }
      ]
    },
    {
      "cell_type": "code",
      "source": [
        "emp_info=['Python',5,'Developer']\n",
        "\n",
        "#List unpacking\n",
        "skill,exp,role=emp_info\n",
        "print (skill)\t#Output:Python\n",
        "print (exp)\t#Output:5\n",
        "print (role)\t#Output:Developer\n"
      ],
      "metadata": {
        "colab": {
          "base_uri": "https://localhost:8080/"
        },
        "id": "pOj9kl2xwsiD",
        "outputId": "811aab93-eda8-41d9-8c20-ff99a24f9f47"
      },
      "execution_count": 9,
      "outputs": [
        {
          "output_type": "stream",
          "name": "stdout",
          "text": [
            "Python\n",
            "5\n",
            "Developer\n"
          ]
        }
      ]
    },
    {
      "cell_type": "code",
      "source": [
        "# Initialize an empty stack to represent the browser history\n",
        "browser_history = []\n",
        "\n",
        "# Simulate user browsing by pushing visited pages onto the stack\n",
        "browser_history.append(\"Homepage\")\n",
        "browser_history.append(\"About Us\")\n",
        "browser_history.append(\"Products\")\n",
        "browser_history.append(\"Contact Us\")\n",
        "\n",
        "# User clicks the back button\n",
        "if len(browser_history) > 0:\n",
        "    current_page = browser_history.pop()\n",
        "    print(\"User clicked the back button. Navigating to:\", current_page)\n",
        "\n",
        "# User continues browsing and adds more pages to the history\n",
        "browser_history.append(\"FAQs\")\n",
        "browser_history.append(\"Blog\")\n",
        "\n",
        "# User clicks the back button again\n",
        "if len(browser_history) > 0:\n",
        "    current_page = browser_history.pop()\n",
        "    print(\"User clicked the back button. Navigating to:\", current_page)\n",
        "\n",
        "# At this point, the browser history would contain [\"Homepage\", \"About Us\", \"Products\", \"Contact Us\", \"FAQs\"].\n"
      ],
      "metadata": {
        "colab": {
          "base_uri": "https://localhost:8080/"
        },
        "id": "HlpqhlzKw7tN",
        "outputId": "070468d3-7651-4dbb-a482-e0db88fd911e"
      },
      "execution_count": 10,
      "outputs": [
        {
          "output_type": "stream",
          "name": "stdout",
          "text": [
            "User clicked the back button. Navigating to: Contact Us\n",
            "User clicked the back button. Navigating to: Blog\n"
          ]
        }
      ]
    },
    {
      "cell_type": "code",
      "source": [
        "queue = ['Person 1','Person 2']\n",
        "\n",
        "# Adding elements to the queue\n",
        "queue.append('Person 3')\n",
        "\n",
        "print(\"\\nQueue before:\")\n",
        "print(queue)\n",
        "\n",
        "# Removing elements from the queue\n",
        "print(\"\\nElements dequeued from queue : \", queue.pop(0))\n",
        "\n",
        "print(\"\\nQueue after:\")\n",
        "print(queue)\n"
      ],
      "metadata": {
        "colab": {
          "base_uri": "https://localhost:8080/"
        },
        "id": "BplfNcHWxT6N",
        "outputId": "3e36fd9c-4a22-4a31-fd11-c02b30e1eb6f"
      },
      "execution_count": 11,
      "outputs": [
        {
          "output_type": "stream",
          "name": "stdout",
          "text": [
            "\n",
            "Queue before:\n",
            "['Person 1', 'Person 2', 'Person 3']\n",
            "\n",
            "Elements dequeued from queue :  Person 1\n",
            "\n",
            "Queue after:\n",
            "['Person 2', 'Person 3']\n"
          ]
        }
      ]
    },
    {
      "cell_type": "code",
      "source": [
        "up=(9,6,'g','Python',7.4)\n",
        "print(len(tup))\n",
        "print(tup.index('g'))\n",
        "\n",
        "print(tup.count('a'))\n"
      ],
      "metadata": {
        "id": "QBc25QXDxXh1"
      },
      "execution_count": null,
      "outputs": []
    },
    {
      "cell_type": "code",
      "source": [
        "# Create a tuple using round brackets\n",
        "t1 = (1, 2, 3, 4)\n",
        "\n",
        "# Create a tuple from a list the tuple() constructor\n",
        "t2 = tuple([1, 2, 3, 4, 5])\n",
        "\n",
        "# Create a tuple using the tuple() constructor\n",
        "t3 = tuple([1, 2, 3, 4, 5, 6])\n",
        "\n",
        "# Print out tuples\n",
        "print(f\"Tuple t1: {t1}\")\n",
        "print(f\"Tuple t2: {t2}\")\n",
        "print(f\"Tuple t3: {t3}\")\n"
      ],
      "metadata": {
        "colab": {
          "base_uri": "https://localhost:8080/"
        },
        "id": "i0Hp04M-xf4T",
        "outputId": "bef30f6b-34ed-4386-b94c-3a543e457492"
      },
      "execution_count": 14,
      "outputs": [
        {
          "output_type": "stream",
          "name": "stdout",
          "text": [
            "Tuple t1: (1, 2, 3, 4)\n",
            "Tuple t2: (1, 2, 3, 4, 5)\n",
            "Tuple t3: (1, 2, 3, 4, 5, 6)\n"
          ]
        }
      ]
    },
    {
      "cell_type": "code",
      "source": [
        "tup1 = (12, 34.56);\n",
        "tup2 = ('abc', 'xyz');\n",
        "\n",
        "# Following action is NOT VALID for tuples\n",
        "# tup1[0] = 100;\n",
        "\n",
        "# So let's create a new tuple as follows\n",
        "tup3 = tup1 + tup2;\n",
        "print (tup3);\n"
      ],
      "metadata": {
        "colab": {
          "base_uri": "https://localhost:8080/"
        },
        "id": "efCysKC6xnpr",
        "outputId": "f04b0800-3bc1-43dc-ccd4-50f111d73f73"
      },
      "execution_count": 15,
      "outputs": [
        {
          "output_type": "stream",
          "name": "stdout",
          "text": [
            "(12, 34.56, 'abc', 'xyz')\n"
          ]
        }
      ]
    },
    {
      "cell_type": "code",
      "source": [
        "tup1 = ('physics', 'chemistry', 1997, 2000);\n",
        "tup2 = (1, 2, 3, 4, 5, 6, 7 );\n",
        "print (\"tup1[0]: \", tup1[0])\n",
        "print (\"tup2[1:5]: \", tup2[1:5])\n"
      ],
      "metadata": {
        "colab": {
          "base_uri": "https://localhost:8080/"
        },
        "id": "Yij3SYzDxjXb",
        "outputId": "f3e11eca-52fc-44f9-f4f7-a6451d23f58c"
      },
      "execution_count": 13,
      "outputs": [
        {
          "output_type": "stream",
          "name": "stdout",
          "text": [
            "tup1[0]:  physics\n",
            "tup2[1:5]:  (2, 3, 4, 5)\n"
          ]
        }
      ]
    },
    {
      "cell_type": "code",
      "source": [
        "tup=1,2,3 #packing\n",
        "print(\"The type of \",tup,\"is:\",type(tup))\n",
        "\n",
        "a,b,c=tup #unpacking\n",
        "print(a)\n",
        "print(b)\n",
        "print(c)\n"
      ],
      "metadata": {
        "colab": {
          "base_uri": "https://localhost:8080/"
        },
        "id": "HWzMOlsmx0KW",
        "outputId": "9224b0cc-3544-4412-8c95-3cc33de6070b"
      },
      "execution_count": 17,
      "outputs": [
        {
          "output_type": "stream",
          "name": "stdout",
          "text": [
            "The type of  (1, 2, 3) is: <class 'tuple'>\n",
            "1\n",
            "2\n",
            "3\n"
          ]
        }
      ]
    },
    {
      "cell_type": "code",
      "source": [
        "dict1={1:'a',2:'e',3:'i',4:'o',5:'u'}\n",
        "print(dict1.get(4))\n",
        "\n",
        "print(dict1.keys())\n",
        "\n",
        "print(dict1.values())\n",
        "\n",
        "print(dict1.items())\n",
        "\n",
        "var1=dict1.pop(2)\n",
        "print(\"The value of var1 is:\",var1)\n",
        "\n",
        "var2=dict1.popitem()\n",
        "print(\"The value of var2 is:\",var2)\n",
        "\n",
        "dict1.clear()\n",
        "dict1\n"
      ],
      "metadata": {
        "colab": {
          "base_uri": "https://localhost:8080/"
        },
        "id": "-YjBq4DXx3m9",
        "outputId": "a61c5b0d-df61-4b26-e506-3c8a5b3bfc50"
      },
      "execution_count": 18,
      "outputs": [
        {
          "output_type": "stream",
          "name": "stdout",
          "text": [
            "o\n",
            "dict_keys([1, 2, 3, 4, 5])\n",
            "dict_values(['a', 'e', 'i', 'o', 'u'])\n",
            "dict_items([(1, 'a'), (2, 'e'), (3, 'i'), (4, 'o'), (5, 'u')])\n",
            "The value of var1 is: e\n",
            "The value of var2 is: (5, 'u')\n"
          ]
        },
        {
          "output_type": "execute_result",
          "data": {
            "text/plain": [
              "{}"
            ]
          },
          "metadata": {},
          "execution_count": 18
        }
      ]
    },
    {
      "cell_type": "code",
      "source": [
        "dict = {'Name': 'Zara', 'Age': 7, 'Class': 'First'}\n",
        "print (\"dict['Name']: \", dict['Name'])\n",
        "print (\"dict['Age']: \", dict['Age'])\n"
      ],
      "metadata": {
        "colab": {
          "base_uri": "https://localhost:8080/"
        },
        "id": "9AJlZOb5x7oD",
        "outputId": "ac17f293-2768-42b6-c3df-8658a7e26d25"
      },
      "execution_count": 19,
      "outputs": [
        {
          "output_type": "stream",
          "name": "stdout",
          "text": [
            "dict['Name']:  Zara\n",
            "dict['Age']:  7\n"
          ]
        }
      ]
    },
    {
      "cell_type": "code",
      "source": [
        "dict = {'Name': 'Zara', 'Age': 7, 'Class': 'First'}\n",
        "dict['Age'] = 8; # update existing entry\n",
        "dict['School'] = \"DPS School\"; # Add new entry\n",
        "\n",
        "print (\"dict['Age']: \", dict['Age'])\n",
        "print (\"dict['School']: \", dict['School'])\n"
      ],
      "metadata": {
        "colab": {
          "base_uri": "https://localhost:8080/"
        },
        "id": "n6FOPjICx-ab",
        "outputId": "ad2cba4f-b1ea-4d9a-c280-b26ceb904630"
      },
      "execution_count": 20,
      "outputs": [
        {
          "output_type": "stream",
          "name": "stdout",
          "text": [
            "dict['Age']:  8\n",
            "dict['School']:  DPS School\n"
          ]
        }
      ]
    },
    {
      "cell_type": "code",
      "source": [
        "dict = {'Name': 'Zara', 'Age': 7, 'Class': 'First'}\n",
        "del dict['Name']; # remove entry with key 'Name'\n",
        "dict.clear();     # remove all entries in dict\n",
        "del dict ;        # delete entire dictionary\n",
        "\n",
        "# an exception is raised here because after del dict dictionary does not exist any more :\n",
        "print (\"dict['Age']: \", dict['Age'])\n",
        "print (\"dict['School']: \", dict['School'])\n"
      ],
      "metadata": {
        "colab": {
          "base_uri": "https://localhost:8080/"
        },
        "id": "FE-NenwOyBQ7",
        "outputId": "8b189cbb-87cc-4eb0-945a-167b11a8108b"
      },
      "execution_count": 21,
      "outputs": [
        {
          "output_type": "stream",
          "name": "stdout",
          "text": [
            "dict['Age']:  dict['Age']\n",
            "dict['School']:  dict['School']\n"
          ]
        }
      ]
    },
    {
      "cell_type": "code",
      "source": [
        "# Creating a sample dictionary\n",
        "my_dict = {\"name\": \"Alice\", \"age\": 25, \"city\": \"New York\"}\n",
        "\n",
        "# Method 1: Loop through keys and access values\n",
        "for key in my_dict:\n",
        "    print(key, \"->\", my_dict[key])\n",
        "\n",
        "# Method 2: Loop through keys and values using .items()\n",
        "for key, value in my_dict.items():\n",
        "    print(key, \"->\", value)\n",
        "\n",
        "# Method 3: Loop through keys using .keys() (less common)\n",
        "for key in my_dict.keys():\n",
        "print(key, \"->\", my_dict[key)\n",
        "\n",
        "# Method 4: Loop through values using .values()\n",
        "for value in my\n"
      ],
      "metadata": {
        "id": "uyq9MaKHyHis"
      },
      "execution_count": null,
      "outputs": []
    },
    {
      "cell_type": "code",
      "source": [
        "dict = {'Name': 'Zara', 'Age': 7, 'Name': 'Manni'}\n",
        "print (\"dict['Name']: \", dict['Name'])\t# dict['Name']:  Manni"
      ],
      "metadata": {
        "colab": {
          "base_uri": "https://localhost:8080/"
        },
        "id": "XQ0Ad1vMyRNC",
        "outputId": "77c1282b-1af6-4fdc-bedc-4fd2371e1df9"
      },
      "execution_count": 24,
      "outputs": [
        {
          "output_type": "stream",
          "name": "stdout",
          "text": [
            "dict['Name']:  Manni\n"
          ]
        }
      ]
    },
    {
      "cell_type": "code",
      "source": [
        "Days=set([\"Mon\",\"Tue\",\"Wed\",\"Thu\",\"Fri\",\"Sat\",\"Sun\"])\n",
        "Months={\"Jan\",\"Feb\",\"Mar\"}\n",
        "Dates={21,22,17}\n",
        "print(Days)\n",
        "print(Months)\n",
        "print(Dates)\n"
      ],
      "metadata": {
        "colab": {
          "base_uri": "https://localhost:8080/"
        },
        "id": "b0VhjoX5yRU9",
        "outputId": "d2212b04-c362-45dc-a36d-0037d5843d7d"
      },
      "execution_count": 25,
      "outputs": [
        {
          "output_type": "stream",
          "name": "stdout",
          "text": [
            "{'Fri', 'Sun', 'Mon', 'Wed', 'Thu', 'Sat', 'Tue'}\n",
            "{'Jan', 'Feb', 'Mar'}\n",
            "{17, 21, 22}\n"
          ]
        }
      ]
    },
    {
      "cell_type": "code",
      "source": [
        "Days=set([\"Mon\",\"Tue\",\"Wed\",\"Thu\",\"Fri\",\"Sat\",\"Sun\"])\n",
        "\n",
        "for d in Days:\n",
        "   print(d)\n"
      ],
      "metadata": {
        "colab": {
          "base_uri": "https://localhost:8080/"
        },
        "id": "-NbUCpMYyisL",
        "outputId": "065a8a9f-f1c2-4a47-aa5e-a71f9ef3b8ac"
      },
      "execution_count": 26,
      "outputs": [
        {
          "output_type": "stream",
          "name": "stdout",
          "text": [
            "Fri\n",
            "Sun\n",
            "Mon\n",
            "Wed\n",
            "Thu\n",
            "Sat\n",
            "Tue\n"
          ]
        }
      ]
    },
    {
      "cell_type": "code",
      "source": [
        "Days=set([\"Mon\",\"Tue\",\"Wed\",\"Thu\",\"Fri\",\"Sat\"])\n",
        "\n",
        "Days.discard(\"Sun\")\n",
        "print(Days)\n"
      ],
      "metadata": {
        "colab": {
          "base_uri": "https://localhost:8080/"
        },
        "id": "sWx9-0Trymnt",
        "outputId": "43a8e8ec-0df2-44f6-d654-f804de355c82"
      },
      "execution_count": 27,
      "outputs": [
        {
          "output_type": "stream",
          "name": "stdout",
          "text": [
            "{'Fri', 'Mon', 'Wed', 'Thu', 'Sat', 'Tue'}\n"
          ]
        }
      ]
    },
    {
      "cell_type": "code",
      "source": [
        "DaysA = set([\"Mon\",\"Tue\",\"Wed\"])\n",
        "DaysB = set([\"Wed\",\"Thu\",\"Fri\",\"Sat\",\"Sun\"])\n",
        "print(DaysA|DaysB)\t\t# equals with print(DaysA.union(DaysB))\n",
        "print(DaysA & DaysB)\t# equals with print(DaysA.intersection(DaysB))\n",
        "print(DaysA - DaysB)\t\t# equals with print(DaysA.difference(DaysB))"
      ],
      "metadata": {
        "colab": {
          "base_uri": "https://localhost:8080/"
        },
        "id": "14tfvFlpyrEc",
        "outputId": "6f37262e-a7d7-4ccd-feb9-756829cd087d"
      },
      "execution_count": 28,
      "outputs": [
        {
          "output_type": "stream",
          "name": "stdout",
          "text": [
            "{'Fri', 'Sun', 'Mon', 'Wed', 'Thu', 'Sat', 'Tue'}\n",
            "{'Wed'}\n",
            "{'Tue', 'Mon'}\n"
          ]
        }
      ]
    },
    {
      "cell_type": "code",
      "source": [
        "employee_list = [(12345, \"John\", \"Kitchen\"), (12458, \"Paul\", \"House Floor\")]\n",
        "\n",
        "def get_employee(id):\n",
        "    for employee in employee_list:\n",
        "        if employee[0] == id:\n",
        "            return {\"id\": employee[0], \"name\": employee[1], \"department\": employee[2]}\n",
        "\n",
        "print(get_employee(12458))\n"
      ],
      "metadata": {
        "colab": {
          "base_uri": "https://localhost:8080/"
        },
        "id": "4zSPGB7Syuks",
        "outputId": "adce08ec-f2bf-487c-a947-d98ad2007456"
      },
      "execution_count": 29,
      "outputs": [
        {
          "output_type": "stream",
          "name": "stdout",
          "text": [
            "{'id': 12458, 'name': 'Paul', 'department': 'House Floor'}\n"
          ]
        }
      ]
    },
    {
      "cell_type": "code",
      "source": [
        "employee_dict = {\n",
        "    12345: {\n",
        "        \"id\": \"12345\",\n",
        "        \"name\": \"John\",\n",
        "        \"department\": \"Kitchen\"\n",
        "    },\n",
        "    12458: {\n",
        "        \"id\": \"12458\",\n",
        "        \"name\": \"Paul\",\n",
        "        \"department\": \"House Floor\"\n",
        "    }\n",
        "}\n",
        "\n",
        "def get_employee_from_dict(id):\n",
        "    return employee_dict[id];\n",
        "\n",
        "\n",
        "print(get_employee_from_dict(12458));\n"
      ],
      "metadata": {
        "colab": {
          "base_uri": "https://localhost:8080/"
        },
        "id": "9C9LhfZsyx5P",
        "outputId": "dd104eac-b071-416c-f01a-7229af51e8aa"
      },
      "execution_count": 30,
      "outputs": [
        {
          "output_type": "stream",
          "name": "stdout",
          "text": [
            "{'id': '12458', 'name': 'Paul', 'department': 'House Floor'}\n"
          ]
        }
      ]
    },
    {
      "cell_type": "code",
      "source": [],
      "metadata": {
        "id": "BWwukuvOy3Br"
      },
      "execution_count": null,
      "outputs": []
    }
  ]
}