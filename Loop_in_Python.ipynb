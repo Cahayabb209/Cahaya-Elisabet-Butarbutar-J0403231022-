{
  "nbformat": 4,
  "nbformat_minor": 0,
  "metadata": {
    "colab": {
      "provenance": [],
      "authorship_tag": "ABX9TyPF6J2tcvU1pdxhGMcQC00F",
      "include_colab_link": true
    },
    "kernelspec": {
      "name": "python3",
      "display_name": "Python 3"
    },
    "language_info": {
      "name": "python"
    }
  },
  "cells": [
    {
      "cell_type": "markdown",
      "metadata": {
        "id": "view-in-github",
        "colab_type": "text"
      },
      "source": [
        "<a href=\"https://colab.research.google.com/github/Cahayabb209/Cahaya-Elisabet-Butarbutar-J0403231022-/blob/main/Loop_in_Python.ipynb\" target=\"_parent\"><img src=\"https://colab.research.google.com/assets/colab-badge.svg\" alt=\"Open In Colab\"/></a>"
      ]
    },
    {
      "cell_type": "code",
      "execution_count": 10,
      "metadata": {
        "colab": {
          "base_uri": "https://localhost:8080/",
          "height": 140
        },
        "id": "7iA09fIbnwEA",
        "outputId": "311c34c8-3e5e-4845-8ea3-dd8dd73cea61"
      },
      "outputs": [
        {
          "output_type": "error",
          "ename": "IndentationError",
          "evalue": "ignored",
          "traceback": [
            "\u001b[0;36m  File \u001b[0;32m\"<ipython-input-10-6cdf64bd24d7>\"\u001b[0;36m, line \u001b[0;32m2\u001b[0m\n\u001b[0;31m    statements        # Loop body\u001b[0m\n\u001b[0m    ^\u001b[0m\n\u001b[0;31mIndentationError\u001b[0m\u001b[0;31m:\u001b[0m expected an indented block after 'while' statement on line 1\n"
          ]
        }
      ],
      "source": [
        "\n",
        "    while test:           # Loop test\n",
        "    statements        # Loop body\n",
        "    if test:\n",
        "        break         # Exit loop now, skip 'else' if present\n",
        "    if test:\n",
        "        continue      # Go to the top of the loop now, to 'test1'\n",
        "    else:\n",
        "        statements    # Run if we didn't hit a 'break'\n",
        "\n"
      ]
    },
    {
      "cell_type": "code",
      "source": [
        "favorites = ['Churros', 'Tiramisú', 'Pudding']\n",
        "\n",
        "count = 0\t\t# count is iteration variable\n",
        "\n",
        "while count < len(favorites):\n",
        "    print('One of my favorite desserts is', favorites[count]);\n",
        "    count += 1\n"
      ],
      "metadata": {
        "colab": {
          "base_uri": "https://localhost:8080/"
        },
        "id": "J5Clm94ToAdH",
        "outputId": "b29379f2-83dd-4205-fcc1-edf72c4734da"
      },
      "execution_count": 3,
      "outputs": [
        {
          "output_type": "stream",
          "name": "stdout",
          "text": [
            "One of my favorite desserts is Churros\n",
            "One of my favorite desserts is Tiramisú\n",
            "One of my favorite desserts is Pudding\n"
          ]
        }
      ]
    },
    {
      "cell_type": "code",
      "source": [
        "time = 0\n",
        "population = 1000 # 1000 bacteria to start with\n",
        "growth_rate = 0.21 # 21% growth per minute\n",
        "while population < 2000:\n",
        "  population = population + growth_rate * population\n",
        "print(round(population))\n",
        "time = time + 1\n",
        "print(\"It took\", time, \"minutes for the bacteria to double.\")\n",
        "print(\"The final population was\", round(population), \"bacteria.\")\n"
      ],
      "metadata": {
        "colab": {
          "base_uri": "https://localhost:8080/"
        },
        "id": "9KRUTBmJoQdR",
        "outputId": "c6d04b46-eb83-4cab-dd44-7b9266a3b21b"
      },
      "execution_count": 11,
      "outputs": [
        {
          "output_type": "stream",
          "name": "stdout",
          "text": [
            "2144\n",
            "It took 1 minutes for the bacteria to double.\n",
            "The final population was 2144 bacteria.\n"
          ]
        }
      ]
    },
    {
      "cell_type": "code",
      "source": [
        "while True:  #constant condition\n",
        "    print(\"This is an infinite loop\")\n",
        "\n",
        "count = 0\t# Incorrectly initialized variable\n",
        "while count < 10:\n",
        "    print(\"This loop will never exit\")\n",
        "flag = True\t#flag that never change\n",
        "while flag:\n",
        "    print(\"This loop will run indefinitely\")\n",
        "x = 5\n",
        "while x > 0:\n",
        "    print(\"This loop will run forever\")\n",
        "x = x - 1  # Logical error: missing decrement in the loop, so x will never be less than or equal to 0\n"
      ],
      "metadata": {
        "id": "FgdGdcJHoXzR"
      },
      "execution_count": null,
      "outputs": []
    },
    {
      "cell_type": "code",
      "source": [
        " #Use multivalued assignment to set up controls\n",
        "time, population, growth_rate = 0, 1000, 0.21\n",
        "# Don't stop until we're exactly double the original size\n",
        "while population != 2000:\n",
        "  population = population + growth_rate * population\n",
        "print(round(population))\n",
        "time = time + 1\n",
        "print(\"It took\", time, \"minutes for the bacteria to double.\")\n"
      ],
      "metadata": {
        "id": "l7EiV1YzoxgP"
      },
      "execution_count": null,
      "outputs": []
    },
    {
      "cell_type": "code",
      "source": [
        "text = \"\"\n",
        "while text != \"q\":\t\t\t\t\t\t\t\t\t\t# not use while True\n",
        "  text = input(\"Please enter a chemical formula (or 'q' to exit): \")\t# user input\n",
        "  if text == \"q\":\n",
        "    print(\"…exiting program\")\n",
        "    Break\t\t\t\t\t\t\t\t\t\t\t# break\n",
        "  elif text == \"H2O\":\n",
        "    print(\"Water\")\n",
        "  elif text == \"NH3\":\n",
        "    print(\"Ammonia\")\n",
        "  elif text == \"CH4\":\n",
        "    print(\"Methane\")\n",
        "  else:\n",
        "    print(\"Unknown compound\")\n"
      ],
      "metadata": {
        "id": "uOmkrwyoo1qp"
      },
      "execution_count": null,
      "outputs": []
    },
    {
      "cell_type": "code",
      "source": [
        "for i in object: \t   # Assign object items to iteration variable\n",
        "  statements \t   # Repeated loop body: use iteration variable\n",
        "    if test: break \t   # Exit loop now, skip else\n",
        "    if test: continue   # Go to top of loop now\n",
        "else: \t\t\t   # Optional else part\n",
        "  statements \t   # If we didn't hit a 'break'"
      ],
      "metadata": {
        "id": "yQ1xS9oCo60W"
      },
      "execution_count": null,
      "outputs": []
    },
    {
      "cell_type": "code",
      "source": [
        "favorites = ['Churros', 'Tiramisú', 'Pudding']\n",
        "\n",
        "for dessert in favorites:\n",
        "    print('One of my favorite desserts is', dessert)\n"
      ],
      "metadata": {
        "id": "ooZi9NO5pFOo"
      },
      "execution_count": null,
      "outputs": []
    },
    {
      "cell_type": "code",
      "source": [
        "country = 'Republik Indonesia'\n",
        "for ch in country:\n",
        "    print(ch, end=' ')\n",
        "days_of_week = [\"Monday\", \"Tuesday\", \"Wednesday\", \"Thursday\", \"Friday\", \"Saturday\", \"Sunday\"]\n",
        "\n",
        "for day in days_of_week:\n",
        "    print(day)\n",
        "\n"
      ],
      "metadata": {
        "id": "kBwcHh9PpH7t"
      },
      "execution_count": null,
      "outputs": []
    },
    {
      "cell_type": "code",
      "source": [
        "survey_responses = [\"positive\", \"neutral\", \"positive\", \"negative\", \"positive\", \"positive\", \"neutral\"]\n",
        "\n",
        "positive_count = 0\n",
        "\n",
        "for response in survey_responses:\n",
        "    if response == \"positive\":\n",
        "        positive_count += 1\n",
        "\n",
        "print(f\"Number of positive responses: {positive_count}\")\n"
      ],
      "metadata": {
        "id": "zjOynKahpWrZ"
      },
      "execution_count": null,
      "outputs": []
    },
    {
      "cell_type": "code",
      "source": [
        "sales_transactions = [100.50, 75.25, 50.75, 30.00, 45.50]\n",
        "\n",
        "total_revenue = 0\n",
        "\n",
        "for transaction in sales_transactions:\n",
        "    total_revenue += transaction\n",
        "\n",
        "print(f\"Total revenue: ${total_revenue:.2f}\")\n"
      ],
      "metadata": {
        "id": "7C0r207YpYJ1"
      },
      "execution_count": null,
      "outputs": []
    },
    {
      "cell_type": "code",
      "source": [
        "email_addresses = [\"user1@spam.com\", \"user2@gmail.com\", \"user3@spam.com\"]\n",
        "\n",
        "spam_emails = []\n",
        "\n",
        "for email in email_addresses:\n",
        "    if email.endswith(\"@spam.com\"):\n",
        "        spam_emails.append(email)\n",
        "\n",
        "print(\"Spam emails:\")\n",
        "for email in spam_emails:\n",
        "    print(email)\n"
      ],
      "metadata": {
        "id": "K2TEOEvAplIh"
      },
      "execution_count": null,
      "outputs": []
    },
    {
      "cell_type": "code",
      "source": [
        "student_names = [\"Alice\", \"Bob\", \"Charlie\", \"David\"]\n",
        "student_name_to_search = \"Charlie\"\n",
        "\n",
        "student_found = False\n",
        "\n",
        "for name in student_names:\n",
        "    if name == student_name_to_search:\n",
        "        student_found = True\n",
        "        break\n",
        "\n",
        "if student_found:\n",
        "    print(f\"Student {student_name_to_search} found.\")\n",
        "else:\n",
        "    print(f\"Student {student_name_to_search} not found.\")\n"
      ],
      "metadata": {
        "id": "rZaKuoZ2pqRc"
      },
      "execution_count": null,
      "outputs": []
    },
    {
      "cell_type": "code",
      "source": [
        "temperatures = [75, 82, 79, 88, 91, 84, 77]\n",
        "max_temperature = temperatures[0]\n",
        "\n",
        "for temperature in temperatures:\n",
        "    if temperature > max_temperature:\n",
        "        max_temperature = temperature\n",
        "\n",
        "print(f\"The maximum temperature of the week was {max_temperature}°F.\")\n"
      ],
      "metadata": {
        "id": "BHCrjLe5p0wS"
      },
      "execution_count": null,
      "outputs": []
    },
    {
      "cell_type": "code",
      "source": [
        "my_range1 = range(5) \t\t\t# generates a sequence equivalent to [0, 1, 2, 3, 4]\n",
        "my_range2 = range(3, 6)\t\t# generates a sequence equivalent to [3, 4, 5]\n",
        "even_numbers = range(2, 11, 2)\t# generates a sequence equivalent to [2, 4, 6, 8, 10]\n"
      ],
      "metadata": {
        "id": "6MeconJ8p6OO"
      },
      "execution_count": null,
      "outputs": []
    },
    {
      "cell_type": "code",
      "source": [
        "import time\n",
        "\n",
        "countdown_seconds = 5\n",
        "\n",
        "print(\"Get ready for liftoff!\")\n",
        "for remaining_seconds in range(countdown_seconds, 0, -1):\n",
        "    print(f\"{remaining_seconds}...\")\n",
        "    time.sleep(1)\n",
        "\n",
        "print(\"Blast off!\")\n",
        "days_in_month = 30\n",
        "start_day = 1 #1st day of the month\n",
        "\n",
        "print(\"<< Dummy Calendar >>\")\n",
        "print(\"Mon Tue Wed Thu Fri Sat Sun\")\n",
        "for day in range(1, days_in_month + 1):\n",
        "    print(f\"{day:3d}\", end=\" \")\n",
        "\n",
        "    # new line for next week (Sunday)\n",
        "    if (day + start_day - 1) % 7 == 0:\n",
        "        print()\n"
      ],
      "metadata": {
        "id": "I-LvAdsMqHPk"
      },
      "execution_count": null,
      "outputs": []
    },
    {
      "cell_type": "code",
      "source": [
        "outer = ['Li', 'Na', 'K']\n",
        "inner = ['F', 'Cl', 'Br']\n",
        "for metal in outer:\n",
        "    for halogen in inner:\n",
        "        print(metal + halogen)\n",
        "height = 5  # Height of the pyramid\n",
        "\n",
        "for i in range(1, height + 1):\n",
        "    # Print spaces before the stars\n",
        "    for j in range(height - i):\n",
        "        print(\" \", end=\"\")\n",
        "\n",
        "    # Print the stars\n",
        "    for k in range(2 * i - 1):\n",
        "        print(\"*\", end=\"\")\n",
        "\n",
        "    # Move to the next line after each row\n",
        "    print()\n"
      ],
      "metadata": {
        "id": "uKtwnjfOqOzn"
      },
      "execution_count": null,
      "outputs": []
    },
    {
      "cell_type": "code",
      "source": [
        "favorites = ['Churros', 'Tiramisú', 'Pudding']\n",
        "\n",
        "for dessert in favorites:\n",
        "    if dessert == 'Pudding':\n",
        "        print('Yes one of my favorite desserts is', dessert)\n",
        "else:\n",
        "    print('No sorry, that dessert is not on my list')\n",
        "countdown = 5\n",
        "\n",
        "while countdown > 0:\n",
        "    print(countdown)\n",
        "    countdown -= 1\n",
        "else:\n",
        "    print(\"Countdown complete! Blast off!\")\n",
        "f = open(\"sample.txt\", \"r\")\n",
        "while True:\n",
        "    line = f.readline()\n",
        "    if not line:\n",
        "        break\n",
        "    print(line.strip())\n",
        "else:\n",
        "    f.close\n"
      ],
      "metadata": {
        "id": "alRkB85fqbm2"
      },
      "execution_count": null,
      "outputs": []
    },
    {
      "cell_type": "code",
      "source": [
        "favorites = ['Churros', 'Tiramisú', 'Pudding']\n",
        "\n",
        "for dessert in favorites:\n",
        "    if dessert == 'Pudding':\n",
        "        print('My favorite is', dessert)\n",
        "        break\n",
        "else:\n",
        "    print('No sorry, not a dessert on my list')\n",
        "snacks_in_stock = [\"chips\", \"candy\", \"soda\", \"cookies\"]\n",
        "user_choice = \"\"\n",
        "\n",
        "while user_choice != \"q\":\n",
        "    user_choice = input(\"Enter your snack choice (or 'q' to exit): \")\n",
        "\n",
        "    # Check if the user wants to quit\n",
        "    if user_choice == \"q\":\n",
        "        print(\"Thank you for using the vending machine.\")\n",
        "        break\n",
        "\n",
        "    # Dispense the selected snack\n",
        "    print(f\"Dispensing {user_choice}. Enjoy your snack!\")\n",
        "\n",
        "print(\"Vending machine session ended.\")\n",
        "\n"
      ],
      "metadata": {
        "id": "MRP5WriuqmRr"
      },
      "execution_count": null,
      "outputs": []
    },
    {
      "cell_type": "code",
      "source": [
        "favorites = ['Churros', 'Tiramisú', 'Pudding']\n",
        "\n",
        "for dessert in favorites:\n",
        "    if dessert == 'Churros':\n",
        "        continue\n",
        "    print('Other desserts I like are', dessert)\n",
        "snacks_in_stock = [\"chips\", \"candy\", \"soda\", \"cookies\"]\n",
        "user_choice = \"\"\n",
        "\n",
        "while user_choice != \"q\":\n",
        "    user_choice = input(\"Enter your snack choice (or 'q' to exit): \")\n",
        "\n",
        "    # Check if the user wants to quit\n",
        "    if user_choice == \"q\":\n",
        "        print(\"Thank you for using the vending machine.\")\n",
        "        break\n",
        "\n",
        "    # Check if the selected snack is in stock\n",
        "    if user_choice not in snacks_in_stock:\n",
        "        print(\"Sorry, that snack is not available.\")\n",
        "        continue  # Continue iteration without dispensing the snack\n",
        "\n",
        "    # Dispense the selected snack\n",
        "    print(f\"Dispensing {user_choice}. Enjoy your snack!\")\n",
        "\n",
        "print(\"Vending machine session ended.\")\n"
      ],
      "metadata": {
        "id": "sQSBk8B_q4X-"
      },
      "execution_count": null,
      "outputs": []
    },
    {
      "cell_type": "code",
      "source": [
        "customers = [\"Alice\", \"Bob\", \"Charlie\"]\n",
        "\n",
        "for customer in customers:\n",
        "    if customer == \"Charlie\":\n",
        "        pass  # Implementation for Charlie later\n",
        "    else:\n",
        "        send_email(customer)\n",
        "valid_login = \"admin\"\n",
        "valid_password = \"password\"\n",
        "\n",
        "while True:\n",
        "    login = input(\"Enter your login: \")\n",
        "    password = input(\"Enter your password: \")\n",
        "\n",
        "    if login == valid_login and password == valid_password:\n",
        "        print(\"Authentication successful!\")\n",
        "        break\n",
        "    else:\n",
        "        print(\"Invalid credentials. Please try again.\")\n",
        "        pass  # Placeholder for later (e.g., account lockout)\n",
        "\n",
        "print(\"Welcome, admin!\")\n"
      ],
      "metadata": {
        "id": "-m2YpL-frFoQ"
      },
      "execution_count": null,
      "outputs": []
    },
    {
      "cell_type": "code",
      "source": [
        "names = [\"Alice\", \"Bob\", \"Charlie\"]\n",
        "\n",
        "# GOOD:iterate over elements directly\n",
        "for name in names:\n",
        "    print(name)\n",
        "\n",
        "# BAD: iterating over indices\n",
        "for i in range(len(names)):\n",
        "    name = names[i]\n",
        "    print(name)\n"
      ],
      "metadata": {
        "id": "rejIr0LkrOrz"
      },
      "execution_count": null,
      "outputs": []
    },
    {
      "cell_type": "code",
      "source": [
        "# Sample list of numbers\n",
        "numbers = [1, 2, 3, 4, 5, 6, 7, 8, 9, 10]\n",
        "\n",
        "# BAD: Use continue sparingly to skip even numbers\n",
        "print(\"Using continue sparingly:\")\n",
        "for num in numbers:\n",
        "    if num % 2 == 0:\n",
        "        continue  # Skip even numbers\n",
        "    print(num)\n",
        "\n",
        "# GOOD: Equivalent code without continue\n",
        "print(\"\\nEquivalent code without continue:\")\n",
        "for num in numbers:\n",
        "    if num % 2 != 0:\n",
        "        print(num)\n"
      ],
      "metadata": {
        "id": "LNavZ5yjrUck"
      },
      "execution_count": null,
      "outputs": []
    },
    {
      "cell_type": "code",
      "source": [
        "data = [\"a\", \"b\", \"c\"]\n",
        "\n",
        "# BAD:\n",
        "for i in range(len(data)):\n",
        "    print(i, data[i])\n",
        "\n",
        "# GOOD: use enumerate\n",
        "for idx, val in enumerate(data):\n",
        "    print(idx, val)\n",
        "numbers = [7, 20, 33, 51]\n",
        "result = 0\n",
        "\n",
        "# BAD:\n",
        "for num in numbers:\n",
        "    result += num\n",
        "print(result)\n",
        "\n",
        "# GOOD: avoid loop\n",
        "result = sum(numbers)\n",
        "print(result)\n"
      ],
      "metadata": {
        "id": "DUZL6RF4rbag"
      },
      "execution_count": null,
      "outputs": []
    },
    {
      "cell_type": "code",
      "source": [
        "students = [\"Alice\", \"Bob\", \"Charlie\", \"David\"]\n",
        "scores = [85, 92, 78, 88]\n",
        "threshold = 90\n",
        "\n",
        "# BAD: Find who scored above threshold\n",
        "for i in range(len(students)):\n",
        "    if scores[i] > threshold:\n",
        "        print(f\"{students[i]} scored {scores[i]}\")\n",
        "\n",
        "# GOOD: Find who scored above threshold using zip()\n",
        "for student, score in zip(students, scores):\n",
        "    if score > threshold:\n",
        "        print(f\"{student} scored {score}\")\n"
      ],
      "metadata": {
        "id": "feZp8pFUrlWZ"
      },
      "execution_count": null,
      "outputs": []
    },
    {
      "cell_type": "code",
      "source": [
        "import math\n",
        "\n",
        "# Sample list of points as (x, y) coordinates\n",
        "points = [(1, 2), (3, 4), (5, 6), (7, 8)]\n",
        "\n",
        "# Calculate distances between each pair of points\n",
        "distances = {}\n",
        "\n",
        "for i, point1 in enumerate(points):\n",
        "    for j, point2 in enumerate(points):\n",
        "        if i < j:  # Avoid redundancy (i.e., distance point1 and point2 = point2 and point1)\n",
        "            x1, y1 = point1\n",
        "            x2, y2 = point2\n",
        "            distance = math.sqrt((x2 - x1) ** 2 + (y2 - y1) ** 2)\n",
        "            distances[(i, j)] = distance\n",
        "\n",
        "# Print the distances\n",
        "for (i, j), distance in distances.items():\n",
        "    print(f\"Distance between points {i} and {j}: {distance:.2f}\")\n"
      ],
      "metadata": {
        "id": "BHgmgw3Orq44"
      },
      "execution_count": null,
      "outputs": []
    },
    {
      "cell_type": "code",
      "source": [],
      "metadata": {
        "id": "22FeDpdyryLa"
      },
      "execution_count": null,
      "outputs": []
    }
  ]
}