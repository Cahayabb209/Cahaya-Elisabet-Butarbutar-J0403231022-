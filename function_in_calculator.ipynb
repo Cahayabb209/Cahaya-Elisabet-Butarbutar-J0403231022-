{
  "nbformat": 4,
  "nbformat_minor": 0,
  "metadata": {
    "colab": {
      "provenance": [],
      "authorship_tag": "ABX9TyPe+Qk35HHRlZ43U8O1Qrel",
      "include_colab_link": true
    },
    "kernelspec": {
      "name": "python3",
      "display_name": "Python 3"
    },
    "language_info": {
      "name": "python"
    }
  },
  "cells": [
    {
      "cell_type": "markdown",
      "metadata": {
        "id": "view-in-github",
        "colab_type": "text"
      },
      "source": [
        "<a href=\"https://colab.research.google.com/github/Cahayabb209/Cahaya-Elisabet-Butarbutar-J0403231022-/blob/main/function_in_calculator.ipynb\" target=\"_parent\"><img src=\"https://colab.research.google.com/assets/colab-badge.svg\" alt=\"Open In Colab\"/></a>"
      ]
    },
    {
      "cell_type": "code",
      "execution_count": null,
      "metadata": {
        "id": "Bgx-P2QRwHRv"
      },
      "outputs": [],
      "source": [
        "def calculate(operation, *args):\n",
        "    \"\"\"\n",
        "    Perform arithmetic operations on a variable number of arguments.\n",
        "\n",
        "    :param operation: The arithmetic operation to be performed ('+', '-', '*'\n",
        "    applied.\n",
        "    :type args: float\n",
        "    :return: The result of the arithmetic operation.\n",
        "    :rtype: float\n",
        "    :raises ZeroDivisionError: If division by zero occurs.\n",
        "    :raises ValueError: If an invalid operator is provided.\n",
        "    \"\"\"\n",
        "    if not args:\n",
        "        raise ValueError(\"No arguments provided for the calculation.\")\n",
        "\n",
        "    result = args[0]\n",
        "\n",
        "    if operation == '+':\n",
        "        for num in args[1:]:\n",
        "            result += num\n",
        "    elif operation == '-':\n",
        "        for num in args[1:]:\n",
        "            result -= num\n",
        "    elif operation == '*':\n",
        "        for num in args[1:]:\n",
        "            result *= num\n",
        "    elif operation == '/':\n",
        "        for num in args[1:]:\n",
        "            if num == 0:\n",
        "                raise ZeroDivisionError(\"Division by zero is not allowed.\")\n",
        "            result /= num\n",
        "    else:\n",
        "        raise ValueError(\"Invalid operator. Please use '+', '-', '*', or '/'.\")\n",
        "\n",
        "    return result\n",
        "\n",
        "# Sample usage:\n",
        "result = calculate('+', 5, 3, 2)\n",
        "print(f\"5 + 3 + 2 = {result}\")\n",
        "\n",
        "result = calculate('*', 2, 4, 6)\n",
        "print(f\"2 * 4 * 6 = {result}\")"
      ]
    }
  ]
}