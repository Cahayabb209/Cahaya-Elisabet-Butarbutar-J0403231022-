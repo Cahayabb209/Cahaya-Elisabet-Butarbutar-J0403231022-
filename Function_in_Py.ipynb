{
  "nbformat": 4,
  "nbformat_minor": 0,
  "metadata": {
    "colab": {
      "provenance": [],
      "authorship_tag": "ABX9TyMsOQwXhNPU5YKp4mcWwWxm",
      "include_colab_link": true
    },
    "kernelspec": {
      "name": "python3",
      "display_name": "Python 3"
    },
    "language_info": {
      "name": "python"
    }
  },
  "cells": [
    {
      "cell_type": "markdown",
      "metadata": {
        "id": "view-in-github",
        "colab_type": "text"
      },
      "source": [
        "<a href=\"https://colab.research.google.com/github/Cahayabb209/Cahaya-Elisabet-Butarbutar-J0403231022-/blob/main/Function_in_Py.ipynb\" target=\"_parent\"><img src=\"https://colab.research.google.com/assets/colab-badge.svg\" alt=\"Open In Colab\"/></a>"
      ]
    },
    {
      "cell_type": "markdown",
      "source": [
        " Function"
      ],
      "metadata": {
        "id": "FdF_ZZs1pBew"
      }
    },
    {
      "cell_type": "code",
      "source": [
        "# define function\n",
        "def fun():\n",
        "  print(\"My fun function\")\n",
        "# call function\n",
        "fun()"
      ],
      "metadata": {
        "colab": {
          "base_uri": "https://localhost:8080/"
        },
        "id": "95yR3hN9Wibm",
        "outputId": "4772635e-fcea-4d53-dc26-7d63920978ea"
      },
      "execution_count": null,
      "outputs": [
        {
          "output_type": "stream",
          "name": "stdout",
          "text": [
            "My fun function\n"
          ]
        }
      ]
    },
    {
      "cell_type": "markdown",
      "source": [
        "Parameters & Arguments"
      ],
      "metadata": {
        "id": "8_zKuU_kpTEa"
      }
    },
    {
      "cell_type": "code",
      "source": [
        "# Here a,b are the parameters\n",
        "def sum(a,b):\n",
        " print(a+b)\n",
        "\n",
        "# Here the values 1,2 are arguments\n",
        "sum(1,2)"
      ],
      "metadata": {
        "colab": {
          "base_uri": "https://localhost:8080/"
        },
        "id": "tYGzmzjgW8gb",
        "outputId": "7eead478-06e6-428b-fbc6-9abaf4a69779"
      },
      "execution_count": null,
      "outputs": [
        {
          "output_type": "stream",
          "name": "stdout",
          "text": [
            "3\n"
          ]
        }
      ]
    },
    {
      "cell_type": "markdown",
      "source": [
        "Arguments - Positional"
      ],
      "metadata": {
        "id": "LfH3fK77pYXc"
      }
    },
    {
      "cell_type": "code",
      "source": [
        "def greet(name, greeting):\n",
        " print(f\"{greeting}, {name}!\")\n",
        "greet(\"Alice\", \"Hello\") # \"Hello, Alice!\""
      ],
      "metadata": {
        "colab": {
          "base_uri": "https://localhost:8080/"
        },
        "id": "z_NJXhbbXGQ5",
        "outputId": "2d340a34-9500-4d06-ac7b-c58d171bf2df"
      },
      "execution_count": null,
      "outputs": [
        {
          "output_type": "stream",
          "name": "stdout",
          "text": [
            "Hello, Alice!\n"
          ]
        }
      ]
    },
    {
      "cell_type": "code",
      "source": [
        "def greet(name, greeting):\n",
        " print(f\"{greeting}, {name}!\")\n",
        "greet(\"Cahaya\", \"Hello\") # \"Hello, Cahaya!\""
      ],
      "metadata": {
        "colab": {
          "base_uri": "https://localhost:8080/"
        },
        "id": "78McfgMmXPDz",
        "outputId": "d14f1baa-89ad-4e8a-9541-5786752a66c4"
      },
      "execution_count": null,
      "outputs": [
        {
          "output_type": "stream",
          "name": "stdout",
          "text": [
            "Hello, Cahaya!\n"
          ]
        }
      ]
    },
    {
      "cell_type": "markdown",
      "source": [
        "Arguments - Keyword"
      ],
      "metadata": {
        "id": "5z1xMC7lpvGW"
      }
    },
    {
      "cell_type": "code",
      "source": [
        "def greet(name, greeting):\n",
        " print(f\"{greeting}, {name}!\")\n",
        "greet(greeting=\"Hi\", name=\"Bob\") # \"Hi, Bob!\""
      ],
      "metadata": {
        "colab": {
          "base_uri": "https://localhost:8080/"
        },
        "id": "KK_j20lfXYoR",
        "outputId": "85617918-29f7-4194-f01f-ca44be340499"
      },
      "execution_count": null,
      "outputs": [
        {
          "output_type": "stream",
          "name": "stdout",
          "text": [
            "Hi, Bob!\n"
          ]
        }
      ]
    },
    {
      "cell_type": "code",
      "source": [
        "def greet(name, greeting):\n",
        " print(f\"{greeting}, {name}!\")\n",
        "greet(greeting=\"Hi\", name=\"Cay\") # \"Hi, Cay!"
      ],
      "metadata": {
        "colab": {
          "base_uri": "https://localhost:8080/"
        },
        "id": "9EU6jggsXjZ4",
        "outputId": "016172e0-3cf1-4362-990e-a9e26cb35303"
      },
      "execution_count": null,
      "outputs": [
        {
          "output_type": "stream",
          "name": "stdout",
          "text": [
            "Hi, Cay!\n"
          ]
        }
      ]
    },
    {
      "cell_type": "markdown",
      "source": [
        "Arguments - Default"
      ],
      "metadata": {
        "id": "FeZoikVBpyY9"
      }
    },
    {
      "cell_type": "code",
      "source": [
        "def greet(name, greeting=\"Hello\"):\n",
        " print(f\"{greeting}, {name}!\")\n",
        "greet(\"Eve\") # \"Hello, Eve!\""
      ],
      "metadata": {
        "colab": {
          "base_uri": "https://localhost:8080/"
        },
        "id": "SPUPEFQ0XtSU",
        "outputId": "f285f9c0-8519-4a5b-932e-6f1122c7cba1"
      },
      "execution_count": null,
      "outputs": [
        {
          "output_type": "stream",
          "name": "stdout",
          "text": [
            "Hello, Eve!\n"
          ]
        }
      ]
    },
    {
      "cell_type": "code",
      "source": [
        "def greet(name, greeting=\"Hello\"):\n",
        " print(f\"{greeting}, {name}!\")\n",
        "greet(\"Cahaya\") # \"Hello, Cahaya!\""
      ],
      "metadata": {
        "colab": {
          "base_uri": "https://localhost:8080/"
        },
        "id": "nYu5wD4pXxBk",
        "outputId": "25605f70-8762-444b-a529-6f385b51a5e8"
      },
      "execution_count": null,
      "outputs": [
        {
          "output_type": "stream",
          "name": "stdout",
          "text": [
            "Hello, Cahaya!\n"
          ]
        }
      ]
    },
    {
      "cell_type": "markdown",
      "source": [
        "Arguments - Arbitrary - *args"
      ],
      "metadata": {
        "id": "DPPnkN0np3yx"
      }
    },
    {
      "cell_type": "code",
      "source": [
        "def print_args(*args):\n",
        " for arg in args:\n",
        "  print(arg)\n",
        "print_args(1, \"apple\", True) # 1\\n\"apple\"\\nTrue"
      ],
      "metadata": {
        "colab": {
          "base_uri": "https://localhost:8080/"
        },
        "id": "XkbE8fGeXxGB",
        "outputId": "06fe44dd-e7f7-4af3-b211-6d5d33d184af"
      },
      "execution_count": null,
      "outputs": [
        {
          "output_type": "stream",
          "name": "stdout",
          "text": [
            "1\n",
            "apple\n",
            "True\n"
          ]
        }
      ]
    },
    {
      "cell_type": "markdown",
      "source": [
        "Arguments - Arbitrary - *kwargs"
      ],
      "metadata": {
        "id": "muc9hQr6p9Ng"
      }
    },
    {
      "cell_type": "code",
      "source": [
        "def print_kwargs(**kwargs):\n",
        " for key, value in kwargs.items():\n",
        "  print(f\"{key}: {value}\")\n",
        "print_kwargs(name=\"Alice\", age=30) # \"name: Alice\"\\n\"age: 30\""
      ],
      "metadata": {
        "id": "6etQadeuT-Bv",
        "colab": {
          "base_uri": "https://localhost:8080/"
        },
        "outputId": "0ea20be9-f0b1-44d8-c8cb-b45fe3df1f65"
      },
      "execution_count": null,
      "outputs": [
        {
          "output_type": "stream",
          "name": "stdout",
          "text": [
            "name: Alice\n",
            "age: 30\n"
          ]
        }
      ]
    },
    {
      "cell_type": "markdown",
      "source": [
        "Arguments - Passing Lists/Dictionaries/etc"
      ],
      "metadata": {
        "id": "9RWbQztmqCFH"
      }
    },
    {
      "cell_type": "code",
      "source": [
        "def print_list(numbers):\n",
        " for num in numbers:\n",
        "  print(num)\n",
        "print_list([1, 2, 3, 4]) # 1\\n2\\n3\\n4\n",
        "def print_dict(my_dict):\n",
        " for key, value in my_dict.items():\n",
        "  print(f\"{key}: {value}\")\n",
        "print_dict({\"name\": \"Bob\", \"age\": 25}) # Output: \"name: Bob\"\\n\"age: 25\""
      ],
      "metadata": {
        "colab": {
          "base_uri": "https://localhost:8080/"
        },
        "id": "XjYh-pVtYRnu",
        "outputId": "032e5543-9183-420e-c023-781325cf57e2"
      },
      "execution_count": null,
      "outputs": [
        {
          "output_type": "stream",
          "name": "stdout",
          "text": [
            "1\n",
            "2\n",
            "3\n",
            "4\n",
            "name: Bob\n",
            "age: 25\n"
          ]
        }
      ]
    },
    {
      "cell_type": "markdown",
      "source": [
        "Different argument combinations"
      ],
      "metadata": {
        "id": "ZnUeMYFIqJab"
      }
    },
    {
      "cell_type": "code",
      "source": [
        "def f(a, *b, c=6, **d): # compare it with def f(a, b=6, *c, **d)\n",
        " print(f\"a: {a}\")\n",
        " print(f\"b: {b}\")\n",
        " print(f\"c: {c}\")\n",
        " print(f\"d: {d}\")\n",
        "f(1, 2, 3, x=4, y=5) # Default used\n",
        "f(1, 2, 3, c=7, x=4, y=5) # Override default\n"
      ],
      "metadata": {
        "colab": {
          "base_uri": "https://localhost:8080/"
        },
        "id": "XkGs-4VfYbSP",
        "outputId": "ccc64403-db98-40e2-b805-cc317d5d6656"
      },
      "execution_count": null,
      "outputs": [
        {
          "output_type": "stream",
          "name": "stdout",
          "text": [
            "a: 1\n",
            "b: (2, 3)\n",
            "c: 6\n",
            "d: {'x': 4, 'y': 5}\n",
            "a: 1\n",
            "b: (2, 3)\n",
            "c: 7\n",
            "d: {'x': 4, 'y': 5}\n"
          ]
        }
      ]
    },
    {
      "cell_type": "markdown",
      "source": [
        "Return Statements - Examples"
      ],
      "metadata": {
        "id": "WXA2LkGFqOen"
      }
    },
    {
      "cell_type": "code",
      "source": [
        "def add_numbers(a, b):\n",
        " \"\"\"This function adds two numbers and\n",
        "returns the result.\"\"\"\n",
        " result = a + b\n",
        " return result\n",
        "# Call the function with a return value\n",
        "sum_result = add_numbers(5, 3)\n",
        "print(f\"The sum is: {sum_result}\")\n",
        "def greet(name):\n",
        " \"\"\"This function greets the person passed in as a\n",
        "parameter.\"\"\"\n",
        " print(f\"Hello, {name}!\")\n",
        "# Call the function without a return value\n",
        "greet(\"Alice\")\n"
      ],
      "metadata": {
        "colab": {
          "base_uri": "https://localhost:8080/"
        },
        "id": "1cDLaVIKYh3D",
        "outputId": "796cff03-d33f-4e75-83f0-4d4c4b6c45ec"
      },
      "execution_count": null,
      "outputs": [
        {
          "output_type": "stream",
          "name": "stdout",
          "text": [
            "The sum is: 8\n",
            "Hello, Alice!\n"
          ]
        }
      ]
    },
    {
      "cell_type": "markdown",
      "source": [
        "It is executed at runtime"
      ],
      "metadata": {
        "id": "9uNm8dnqqdOP"
      }
    },
    {
      "cell_type": "code",
      "source": [
        "\n",
        "def divide_by_zero(a):\n",
        "    try:\n",
        "        result = a * 2 / (a - a)\n",
        "    except ZeroDivisionError:\n",
        "        print(\"Error: Division by zero\")\n",
        "        return None\n",
        "    return result\n",
        "\n",
        "print(\"After function creation\")\n",
        "result = divide_by_zero(5)  # comment this and see the differences\n",
        "print(\"After function is called/executed\")\n",
        "\n"
      ],
      "metadata": {
        "colab": {
          "base_uri": "https://localhost:8080/"
        },
        "id": "_TKg3qMZvrI0",
        "outputId": "bbd8c3cd-d336-45b8-fad2-db8415981dec"
      },
      "execution_count": null,
      "outputs": [
        {
          "output_type": "stream",
          "name": "stdout",
          "text": [
            "After function creation\n",
            "Error: Division by zero\n",
            "After function is called/executed\n"
          ]
        }
      ]
    },
    {
      "cell_type": "code",
      "source": [
        "if 'a' == 'a':\n",
        " def greet():\n",
        "  return \"Hello, World!\"\n",
        "else:\n",
        " def greet():\n",
        "  return \"Hi there!\"\n",
        " def say_hello():\n",
        "  print(\"Hello, World!\")\n",
        "  greeting = say_hello # Assigning the function to a different name\n",
        "  greeting() # Calls the function\n",
        "def say_hello():\n",
        " print(\"Hello, Python!\")\n",
        "say_hello() # Calls the updated function\n"
      ],
      "metadata": {
        "colab": {
          "base_uri": "https://localhost:8080/"
        },
        "id": "sdJ_V-6MYr3o",
        "outputId": "40bb804c-30a2-4111-d895-668ed225be07"
      },
      "execution_count": null,
      "outputs": [
        {
          "output_type": "stream",
          "name": "stdout",
          "text": [
            "Hello, Python!\n"
          ]
        }
      ]
    },
    {
      "cell_type": "markdown",
      "source": [
        "It is executed at runtime"
      ],
      "metadata": {
        "id": "0zCq5KR9qT7c"
      }
    },
    {
      "cell_type": "code",
      "source": [],
      "metadata": {
        "colab": {
          "base_uri": "https://localhost:8080/",
          "height": 140
        },
        "id": "25rkxy_VZQip",
        "outputId": "ebbdea10-e332-4801-80f7-40f831deab19"
      },
      "execution_count": null,
      "outputs": [
        {
          "output_type": "error",
          "ename": "SyntaxError",
          "evalue": "ignored",
          "traceback": [
            "\u001b[0;36m  File \u001b[0;32m\"<ipython-input-22-d547fc5b1679>\"\u001b[0;36m, line \u001b[0;32m2\u001b[0m\n\u001b[0;31m    if a - a ! = 0: # this is a bug\u001b[0m\n\u001b[0m             ^\u001b[0m\n\u001b[0;31mSyntaxError\u001b[0m\u001b[0;31m:\u001b[0m invalid syntax\n"
          ]
        }
      ]
    },
    {
      "cell_type": "markdown",
      "source": [
        "It is first class object"
      ],
      "metadata": {
        "id": "BYSjjXdPqopU"
      }
    },
    {
      "cell_type": "code",
      "source": [
        "def greet(name):\n",
        " return f\"Hello, {name}!\"\n",
        "# Assign the function to a variable\n",
        "my_function = greet\n",
        "# Call the function using the variable\n",
        "result = my_function(\"Alice\")\n",
        "print(result) # Output: Hello, Alice!"
      ],
      "metadata": {
        "colab": {
          "base_uri": "https://localhost:8080/"
        },
        "id": "YrVpb7oBbxba",
        "outputId": "9bb9a62c-d408-419c-9836-5ec5b457dd17"
      },
      "execution_count": null,
      "outputs": [
        {
          "output_type": "stream",
          "name": "stdout",
          "text": [
            "Hello, Alice!\n"
          ]
        }
      ]
    },
    {
      "cell_type": "markdown",
      "source": [
        "It is first class object - another examples"
      ],
      "metadata": {
        "id": "gK1hWuNbquaQ"
      }
    },
    {
      "cell_type": "code",
      "source": [
        "def apply(func, x):\n",
        " return func(x)\n",
        "def square(x):\n",
        " return x * x\n",
        "result = apply(square, 5)\n",
        "print(result) # Output: 25"
      ],
      "metadata": {
        "colab": {
          "base_uri": "https://localhost:8080/"
        },
        "id": "t2ihbdljb7nq",
        "outputId": "9e62d3a1-66c8-40a9-b41c-84d3aa0e3107"
      },
      "execution_count": null,
      "outputs": [
        {
          "output_type": "stream",
          "name": "stdout",
          "text": [
            "25\n"
          ]
        }
      ]
    },
    {
      "cell_type": "markdown",
      "source": [
        "It is first class object - another examples"
      ],
      "metadata": {
        "id": "qFZj4Kwtq0bG"
      }
    },
    {
      "cell_type": "code",
      "source": [
        "def get_multiplier(factor):\n",
        " def multiplier(x):\n",
        "  return x * factor\n",
        " return multiplier\n",
        "double = get_multiplier(2)\n",
        "triple = get_multiplier(3)\n",
        "print(double(5)) # Output: 10\n",
        "print(triple(5)) # Output: 15\n"
      ],
      "metadata": {
        "colab": {
          "base_uri": "https://localhost:8080/"
        },
        "id": "UzfjZEZVcCZy",
        "outputId": "4a370d90-6833-4996-c29e-d03d5ae95b28"
      },
      "execution_count": null,
      "outputs": [
        {
          "output_type": "stream",
          "name": "stdout",
          "text": [
            "10\n",
            "15\n"
          ]
        }
      ]
    },
    {
      "cell_type": "markdown",
      "source": [
        "Scope - Examples"
      ],
      "metadata": {
        "id": "iatbax3yq5rn"
      }
    },
    {
      "cell_type": "code",
      "source": [
        "def my_function():\n",
        " x = 10 # x is in the local scope\n",
        " print(x)\n",
        "def outer_function():\n",
        " y = 20 # y is in the enclosing scope\n",
        " def inner_function():\n",
        "  print(y) # inner_function can access y from the enclosing scope\n",
        "z = 30 # z is in the global scope\n",
        "def another_function():\n",
        " print(z) # another_function can access z from the global scope\n",
        "print(len(\"Hello, World!\")) # len is a built-in function\n",
        "# Global keyword\n",
        "# Global keyword is used if we want to modify a global variable from within a function.\n",
        "# It indicates that we want to work with the global variable, rather than creating a new local variable with the same name.\n",
        "global_var = 10  # Global variable"
      ],
      "metadata": {
        "colab": {
          "base_uri": "https://localhost:8080/"
        },
        "id": "UPV7dwASh0e8",
        "outputId": "808fb4e4-195d-43f1-a41a-193d78e1be2e"
      },
      "execution_count": null,
      "outputs": [
        {
          "output_type": "stream",
          "name": "stdout",
          "text": [
            "13\n"
          ]
        }
      ]
    },
    {
      "cell_type": "markdown",
      "source": [
        "Scope - Global keyword"
      ],
      "metadata": {
        "id": "LuaaT1ZXq-bB"
      }
    },
    {
      "cell_type": "code",
      "source": [
        "global_var = 10 # Global variable\n",
        "def modify_global():\n",
        " global global_var # Use the global keyword to MODIFY the global variable\n",
        " global_var = 20\n",
        "modify_global()\n",
        "print(global_var) # This will print the modified global variable, which is 20\n"
      ],
      "metadata": {
        "colab": {
          "base_uri": "https://localhost:8080/"
        },
        "id": "McDdIgHsi_UL",
        "outputId": "2fcd1f0f-efda-4e35-f660-2e0087a2da46"
      },
      "execution_count": null,
      "outputs": [
        {
          "output_type": "stream",
          "name": "stdout",
          "text": [
            "20\n"
          ]
        }
      ]
    },
    {
      "cell_type": "markdown",
      "source": [
        "Pass by Object Reference"
      ],
      "metadata": {
        "id": "AdiSg0kprCVM"
      }
    },
    {
      "cell_type": "code",
      "source": [
        "def modify_list(my_list):\n",
        " my_list.append(4) # Modifying the list inside the function\n",
        "my_list = [1, 2, 3]\n",
        "modify_list(my_list)\n",
        "print(my_list) # Output: [1, 2, 3, 4]\n",
        "def reassign_list(my_list):\n",
        " my_list = [4, 5, 6] # Reassigning the list to a new object\n",
        "my_list = [1, 2, 3]\n",
        "reassign_list(my_list)\n",
        "print(my_list) # Output: [1, 2, 3]\n"
      ],
      "metadata": {
        "colab": {
          "base_uri": "https://localhost:8080/"
        },
        "id": "OpXN_-KHjHJ-",
        "outputId": "5a88fa44-a931-4310-d0f2-07ea73eb3345"
      },
      "execution_count": null,
      "outputs": [
        {
          "output_type": "stream",
          "name": "stdout",
          "text": [
            "[1, 2, 3, 4]\n",
            "[1, 2, 3]\n"
          ]
        }
      ]
    },
    {
      "cell_type": "markdown",
      "source": [
        "Pass by Object Reference"
      ],
      "metadata": {
        "id": "kyzzUb_PrHmn"
      }
    },
    {
      "cell_type": "code",
      "source": [
        "def modify_integer(x):\n",
        " x += 1 # Modifying the integer inside the function\n",
        "my_integer = 5\n",
        "modify_integer(my_integer)\n",
        "print(my_integer) # Output: 5\n"
      ],
      "metadata": {
        "colab": {
          "base_uri": "https://localhost:8080/"
        },
        "id": "q2AbV66XjNT-",
        "outputId": "6bdb6036-378a-41dd-b328-0659a92e8a31"
      },
      "execution_count": null,
      "outputs": [
        {
          "output_type": "stream",
          "name": "stdout",
          "text": [
            "5\n"
          ]
        }
      ]
    },
    {
      "cell_type": "markdown",
      "source": [
        "Function Overloading"
      ],
      "metadata": {
        "id": "mDjASHXNrLyp"
      }
    },
    {
      "cell_type": "code",
      "source": [
        "def product(a, b):\n",
        " print(a * b)\n",
        "def product(a, b, c):\n",
        " print(a * b * c)\n",
        "# product(4, 5) # Uncommenting this shows an error\n",
        "\n",
        "product(4, 5, 5) # This line will call the last function\n",
        "# Try using *args to solve that problem\n"
      ],
      "metadata": {
        "colab": {
          "base_uri": "https://localhost:8080/"
        },
        "id": "dBCqNou3jmTo",
        "outputId": "dd78c8de-ba72-4605-e81f-6c04f3853715"
      },
      "execution_count": null,
      "outputs": [
        {
          "output_type": "stream",
          "name": "stdout",
          "text": [
            "100\n"
          ]
        }
      ]
    },
    {
      "cell_type": "markdown",
      "source": [
        "Function Recursion"
      ],
      "metadata": {
        "id": "10vsf2x0rQIB"
      }
    },
    {
      "cell_type": "code",
      "source": [
        "def factorial(n):\n",
        " if n == 0:\n",
        "  return 1\n",
        " else:\n",
        "  return n * factorial(n - 1)\n",
        "result = factorial(5)\n",
        "print(result) # Output: 120"
      ],
      "metadata": {
        "colab": {
          "base_uri": "https://localhost:8080/"
        },
        "id": "Z4M0c2OOjuHG",
        "outputId": "a7f97070-02e7-4876-900a-0aa51ea570a4"
      },
      "execution_count": null,
      "outputs": [
        {
          "output_type": "stream",
          "name": "stdout",
          "text": [
            "120\n"
          ]
        }
      ]
    },
    {
      "cell_type": "markdown",
      "source": [
        "Error\n",
        "Handling -\n",
        "Examples\n"
      ],
      "metadata": {
        "id": "Dl7qegzorVB3"
      }
    },
    {
      "cell_type": "code",
      "source": [
        "def divide(x, y):\n",
        " try:\n",
        "  result = x / y\n",
        " except ZeroDivisionError:\n",
        "  print(\"Error: Division by zero\")\n",
        "  return None\n",
        " except TypeError:\n",
        "  print(\"Error: Invalid data types\")\n",
        "  return None\n",
        " except Exception as e:\n",
        "  print(f\"An unexpected error occurred: {e}\")\n",
        "  return None\n",
        " else:\n",
        "  return result\n",
        " finally:\n",
        "  print(\"Division operation complete\")\n",
        "  # Example usages\n",
        "print(divide(10, 2)) # Output: 5.0\n",
        "print(divide(10, 0)) # Output: Error: Division by zero\\nDivision operation complete\\nNone\n",
        "print(divide(\"10\", 0)) # Output: Error: Invalid data types\\nDivision operation complete\\nNone\n"
      ],
      "metadata": {
        "colab": {
          "base_uri": "https://localhost:8080/"
        },
        "id": "Iw0GW035kP8d",
        "outputId": "f1074e41-146b-4d71-a38d-1cc6ed8e4992"
      },
      "execution_count": null,
      "outputs": [
        {
          "output_type": "stream",
          "name": "stdout",
          "text": [
            "Division operation complete\n",
            "5.0\n",
            "Error: Division by zero\n",
            "Division operation complete\n",
            "None\n",
            "Error: Invalid data types\n",
            "Division operation complete\n",
            "None\n"
          ]
        }
      ]
    },
    {
      "cell_type": "markdown",
      "source": [
        "Docstrings -\n",
        "Examples"
      ],
      "metadata": {
        "id": "m3EsJq5AriLT"
      }
    },
    {
      "cell_type": "code",
      "source": [
        "def add(a, b):\n",
        " \"\"\"\n",
        " This function adds two numbers together.\n",
        "\n",
        " Args:\n",
        " a (int): The first number to be added.\n",
        " b (int): The second number to be added.\n",
        "\n",
        " Returns:\n",
        " int: The sum of the two input numbers.\n",
        "\n",
        " Example:\n",
        " >>> add(3, 4)\n",
        " 7\n",
        " \"\"\"\n",
        " return a + b\n",
        "help(add) # Displays the docstring\n"
      ],
      "metadata": {
        "colab": {
          "base_uri": "https://localhost:8080/"
        },
        "id": "b-x5EJyklPNo",
        "outputId": "164fc464-1695-414e-bc38-bf09e06b9382"
      },
      "execution_count": null,
      "outputs": [
        {
          "output_type": "stream",
          "name": "stdout",
          "text": [
            "Help on function add in module __main__:\n",
            "\n",
            "add(a, b)\n",
            "    This function adds two numbers together.\n",
            "    \n",
            "    Args:\n",
            "    a (int): The first number to be added.\n",
            "    b (int): The second number to be added.\n",
            "    \n",
            "    Returns:\n",
            "    int: The sum of the two input numbers.\n",
            "    \n",
            "    Example:\n",
            "    >>> add(3, 4)\n",
            "    7\n",
            "\n"
          ]
        }
      ]
    },
    {
      "cell_type": "markdown",
      "source": [
        "Tugas membuat fungsi Python untuk mengkonversi suhu dengan parameter suhu dan skala"
      ],
      "metadata": {
        "id": "K4r_pfapmwBZ"
      }
    },
    {
      "cell_type": "code",
      "source": [
        "def convert_temperature(temperature, scale):\n",
        "    \"\"\"\n",
        "    Convert a temperature from one scale to another.\n",
        "\n",
        "    :param temperature: The temperature value to be converted.\n",
        "    :type temperature: float\n",
        "    :param scale: The temperature scale ('C' for Celsius, 'F' for Fahrenheit).\n",
        "    :type scale: str\n",
        "    :return: The converted temperature.\n",
        "    :rtype: float\n",
        "    :raises ValueError: If an invalid scale is provided.\n",
        "    \"\"\"\n",
        "    if scale == 'C':\n",
        "        converted_temperature = (temperature - 32) * 5/9\n",
        "    elif scale == 'F':\n",
        "        converted_temperature = (temperature * 9/5) + 32\n",
        "    else:\n",
        "        raise ValueError(\"Invalid scale. Please use 'C' for Celsius or 'F' for Fahrenheit.\")\n",
        "\n",
        "    return converted_temperature\n",
        "# Sample usage:\n",
        "celsius_temperature = convert_temperature(32, 'F')\n",
        "print(f\"32 degrees Fahrenheit is equal to {celsius_temperature:.2f} degrees Celsius.\")\n",
        "\n",
        "# Create a calculator-like function"
      ],
      "metadata": {
        "colab": {
          "base_uri": "https://localhost:8080/"
        },
        "id": "vSIJc_VEm7v5",
        "outputId": "3ca680df-b21c-4eea-b75c-b7e790202731"
      },
      "execution_count": null,
      "outputs": [
        {
          "output_type": "stream",
          "name": "stdout",
          "text": [
            "32 degrees Fahrenheit is equal to 89.60 degrees Celsius.\n"
          ]
        }
      ]
    },
    {
      "cell_type": "markdown",
      "source": [
        " Tugas membuat fungsi seperti kalkulator yang menerima sejumlah argumen variabel dan parameter operator untuk melakukan operasi aritmatika"
      ],
      "metadata": {
        "id": "OsB3YdFEomNA"
      }
    },
    {
      "cell_type": "code",
      "source": [
        "def calculate(operation, *args):\n",
        "    \"\"\"\n",
        "    Perform arithmetic operations on a variable number of arguments.\n",
        "\n",
        "    :param operation: The arithmetic operation to be performed ('+', '-', '*'\n",
        "    applied.\n",
        "    :type args: float\n",
        "    :return: The result of the arithmetic operation.\n",
        "    :rtype: float\n",
        "    :raises ZeroDivisionError: If division by zero occurs.\n",
        "    :raises ValueError: If an invalid operator is provided.\n",
        "    \"\"\"\n",
        "    if not args:\n",
        "        raise ValueError(\"No arguments provided for the calculation.\")\n",
        "\n",
        "    result = args[0]\n",
        "\n",
        "    if operation == '+':\n",
        "        for num in args[1:]:\n",
        "            result += num\n",
        "    elif operation == '-':\n",
        "        for num in args[1:]:\n",
        "            result -= num\n",
        "    elif operation == '*':\n",
        "        for num in args[1:]:\n",
        "            result *= num\n",
        "    elif operation == '/':\n",
        "        for num in args[1:]:\n",
        "            if num == 0:\n",
        "                raise ZeroDivisionError(\"Division by zero is not allowed.\")\n",
        "            result /= num\n",
        "    else:\n",
        "        raise ValueError(\"Invalid operator. Please use '+', '-', '*', or '/'.\")\n",
        "\n",
        "    return result\n",
        "\n",
        "# Sample usage:\n",
        "result = calculate('+', 5, 3, 2)\n",
        "print(f\"5 + 3 + 2 = {result}\")\n",
        "\n",
        "result = calculate('*', 2, 4, 6)\n",
        "print(f\"2 * 4 * 6 = {result}\")\n"
      ],
      "metadata": {
        "colab": {
          "base_uri": "https://localhost:8080/"
        },
        "id": "twFICx_1oMfj",
        "outputId": "6ba55483-8dda-4b62-8c54-05852b77952d"
      },
      "execution_count": null,
      "outputs": [
        {
          "output_type": "stream",
          "name": "stdout",
          "text": [
            "5 + 3 + 2 = 10\n",
            "2 * 4 * 6 = 48\n"
          ]
        }
      ]
    }
  ]
}