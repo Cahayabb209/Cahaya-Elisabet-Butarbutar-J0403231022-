{
  "nbformat": 4,
  "nbformat_minor": 0,
  "metadata": {
    "colab": {
      "provenance": [],
      "authorship_tag": "ABX9TyOIZ+uDusmAxyqP+XIlTy8l",
      "include_colab_link": true
    },
    "kernelspec": {
      "name": "python3",
      "display_name": "Python 3"
    },
    "language_info": {
      "name": "python"
    }
  },
  "cells": [
    {
      "cell_type": "markdown",
      "metadata": {
        "id": "view-in-github",
        "colab_type": "text"
      },
      "source": [
        "<a href=\"https://colab.research.google.com/github/Cahayabb209/Cahaya-Elisabet-Butarbutar-J0403231022-/blob/main/fungsi_Python_untuk_mengkonversi_suhu.ipynb\" target=\"_parent\"><img src=\"https://colab.research.google.com/assets/colab-badge.svg\" alt=\"Open In Colab\"/></a>"
      ]
    },
    {
      "cell_type": "code",
      "execution_count": null,
      "metadata": {
        "id": "g3cgO0DzvnyR"
      },
      "outputs": [],
      "source": [
        "def convert_temperature(temperature, scale):\n",
        "    \"\"\"\n",
        "    Convert a temperature from one scale to another.\n",
        "\n",
        "    :param temperature: The temperature value to be converted.\n",
        "    :type temperature: float\n",
        "    :param scale: The temperature scale ('C' for Celsius, 'F' for Fahrenheit).\n",
        "    :type scale: str\n",
        "    :return: The converted temperature.\n",
        "    :rtype: float\n",
        "    :raises ValueError: If an invalid scale is provided.\n",
        "    \"\"\"\n",
        "    if scale == 'C':\n",
        "        converted_temperature = (temperature - 32) * 5/9\n",
        "    elif scale == 'F':\n",
        "       converted_temperature = (temperature * 9/5) + 32\n",
        "    else:\n",
        "        raise ValueError(\"Invalid scale. Please use 'C' for Celsius or 'F' for Fahrenheit.\")\n",
        "\n",
        "    return converted_temperature\n",
        "# Sample usage:\n",
        "celsius_temperature = convert_temperature(32, 'F')\n",
        "print(f\"32 degrees Fahrenheit is equal to {celsius_temperature:.2f} degrees Celsius.\")\n",
        "\n",
        "# Create a calculator-like function"
      ]
    }
  ]
}